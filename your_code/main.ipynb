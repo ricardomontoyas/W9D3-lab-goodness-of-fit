{
 "cells": [
  {
   "cell_type": "markdown",
   "metadata": {},
   "source": [
    "## Question 1\n",
    "A researcher gathers information about the patterns of Physical Activity of children in the fifth grade of primary school of a public school. He defines three categories of physical activity (Low, Medium, High). He also inquires about the regular consumption of sugary drinks at school, and defines two categories (Yes = consumed, No = not consumed). We would like to evaluate if there is an association between patterns of physical activity and the consumption of sugary drinks for the children of this school, at a level of 5% significance. The results are in the following table: \n",
    "\n",
    "![](table4.png)"
   ]
  },
  {
   "cell_type": "code",
   "execution_count": 2,
   "metadata": {},
   "outputs": [
    {
     "name": "stdout",
     "output_type": "stream",
     "text": [
      "Chi² = 10.712198008709638\n",
      "p-value = 0.004719280137040844\n",
      "Degrees of freedom = 2\n",
      "Conclusion: Reject H0. There is a significant association between physical activity level and sugary drink consumption.\n"
     ]
    }
   ],
   "source": [
    "import numpy as np\n",
    "import scipy.stats as stats\n",
    "\n",
    "# Observed contingency table\n",
    "observed = np.array([\n",
    "    [32, 12],\n",
    "    [14, 22],\n",
    "    [6, 9]\n",
    "])\n",
    "\n",
    "# Chi-square test of independence\n",
    "chi2, p, dof, expected = stats.chi2_contingency(observed)\n",
    "\n",
    "# Results\n",
    "print(\"Chi² =\", chi2)\n",
    "print(\"p-value =\", p)\n",
    "print(\"Degrees of freedom =\", dof)\n",
    "\n",
    "# Conclusion\n",
    "if p < 0.05:\n",
    "    print(\"Conclusion: Reject H0. There is a significant association between physical activity level and sugary drink consumption.\")\n",
    "else:\n",
    "    print(\"Conclusion: Fail to reject H0. There is no significant association between the variables.\")\n"
   ]
  },
  {
   "cell_type": "markdown",
   "metadata": {},
   "source": [
    "## [OPTIONAL] Question 2\n",
    "The following table indicates the number of 6-point scores in an American rugby match in the 1979 season.\n",
    "\n",
    "![](table1.png)\n",
    "\n",
    "Based on these results, we create a Poisson distribution with the sample mean parameter  = 2.435. Is there any reason to believe that at a .05 level the number of scores is a Poisson variable?\n",
    "\n",
    "Check [here](https://www.geeksforgeeks.org/how-to-create-a-poisson-probability-mass-function-plot-in-python/) how to create a poisson distribution and how to calculate the expected observations, using the probability mass function (pmf). \n",
    "A Poisson distribution is a discrete probability distribution. It gives the probability of an event happening a certain number of times (k) within a given interval of time or space. The Poisson distribution has only one parameter, λ (lambda), which is the mean number of events."
   ]
  },
  {
   "cell_type": "code",
   "execution_count": 3,
   "metadata": {},
   "outputs": [
    {
     "name": "stdout",
     "output_type": "stream",
     "text": [
      "Chi² = 6.051730109245756\n",
      "p-value = 0.4174202786412414\n",
      "Conclusion: Fail to reject H0. The number of scores is consistent with a Poisson distribution.\n"
     ]
    }
   ],
   "source": [
    "import numpy as np\n",
    "from scipy.stats import poisson, chisquare\n",
    "\n",
    "# Observed frequencies (combining 6 and 7+ into one category)\n",
    "observed = np.array([35, 99, 104, 110, 62, 25, 13])\n",
    "n = sum(observed)\n",
    "lambda_ = 2.435\n",
    "\n",
    "# Theoretical Poisson probabilities\n",
    "poisson_probs = [poisson.pmf(k, lambda_) for k in range(6)]\n",
    "poisson_probs.append(1 - sum(poisson_probs))  # for 6 or more\n",
    "\n",
    "# Expected frequencies\n",
    "expected = np.array(poisson_probs) * n\n",
    "\n",
    "# Chi-square goodness-of-fit test\n",
    "chi2, p = chisquare(f_obs=observed, f_exp=expected)\n",
    "\n",
    "# Results\n",
    "print(\"Chi² =\", chi2)\n",
    "print(\"p-value =\", p)\n",
    "\n",
    "# Conclusion\n",
    "if p < 0.05:\n",
    "    print(\"Conclusion: Reject H0. The number of scores does not follow a Poisson distribution.\")\n",
    "else:\n",
    "    print(\"Conclusion: Fail to reject H0. The number of scores is consistent with a Poisson distribution.\")\n"
   ]
  }
 ],
 "metadata": {
  "kernelspec": {
   "display_name": "base",
   "language": "python",
   "name": "python3"
  },
  "language_info": {
   "codemirror_mode": {
    "name": "ipython",
    "version": 3
   },
   "file_extension": ".py",
   "mimetype": "text/x-python",
   "name": "python",
   "nbconvert_exporter": "python",
   "pygments_lexer": "ipython3",
   "version": "3.12.7"
  }
 },
 "nbformat": 4,
 "nbformat_minor": 2
}
